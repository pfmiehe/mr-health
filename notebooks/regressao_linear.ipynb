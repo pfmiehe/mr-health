{
 "cells": [
  {
   "cell_type": "code",
   "execution_count": 133,
   "metadata": {},
   "outputs": [
    {
     "name": "stdout",
     "output_type": "stream",
     "text": [
      "R²: 0.7883694884217911\n",
      "MSE: 0.58880311221315\n",
      "Previsão de estoque para os próximos 7 dias: [3.0463914  3.04579395 2.91154482 3.04459905 3.0440016  3.04340415\n",
      " 3.0428067 ]\n"
     ]
    }
   ],
   "source": [
    "import pandas as pd\n",
    "from sklearn.model_selection import train_test_split\n",
    "from sklearn.linear_model import LinearRegression\n",
    "from sklearn.metrics import mean_squared_error, r2_score\n",
    "\n",
    "# Carregar o DataFrame a partir do arquivo CSV\n",
    "dados_combinados = pd.read_csv('../data/dados_combinados.csv', sep=';')\n",
    "\n",
    "# Convertendo 'DATA' para datetime\n",
    "dados_combinados['DATA'] = pd.to_datetime(dados_combinados['DATA'])\n",
    "dados_combinados['DIAS'] = (dados_combinados['DATA'] - dados_combinados['DATA'].min()).dt.days\n",
    "\n",
    "# Criando colunas para sazonalidade específica\n",
    "dias_sazonais = [20, 27, 4, 11, 18, 1, 15]\n",
    "dados_combinados['SAZONALIDADE_ESPECIFICA'] = dados_combinados['DATA'].apply(lambda x: 1 if x.day in dias_sazonais else 0)\n",
    "\n",
    "# Criando uma coluna para identificar o mês de julho\n",
    "\n",
    "# Selecionando as características (features) e o alvo (target)\n",
    "features = dados_combinados[['DIAS', 'VALOR_TOTAL_ITEM', 'SAZONALIDADE_ESPECIFICA']]\n",
    "target = dados_combinados['QUANTIDADE']\n",
    "\n",
    "# Dividindo os dados em conjuntos de treinamento e teste\n",
    "X_train, X_test, y_train, y_test = train_test_split(features, target, test_size=0.05, random_state=35)\n",
    "\n",
    "# Construindo o modelo de regressão linear\n",
    "modelo = LinearRegression()\n",
    "modelo.fit(X_train, y_train)\n",
    "\n",
    "# Fazendo previsões no conjunto de teste\n",
    "y_pred = modelo.predict(X_test)\n",
    "\n",
    "# Calculando o erro quadrático médio e o coeficiente de determinação\n",
    "mse = mean_squared_error(y_test, y_pred)\n",
    "r2 = r2_score(y_test, y_pred)\n",
    "\n",
    "# Supondo que queremos prever a demanda para os próximos 7 dias\n",
    "dias_futuros = pd.date_range(start=dados_combinados['DATA'].max() + pd.Timedelta(days=1), periods=7)\n",
    "estoque_predito = modelo.predict(pd.DataFrame({\n",
    "    'DIAS': (dias_futuros - dados_combinados['DATA'].min()).days,\n",
    "    'VALOR_TOTAL_ITEM': dados_combinados['VALOR_TOTAL_ITEM'].mean(),\n",
    "    'SAZONALIDADE_ESPECIFICA': dias_futuros.day.isin(dias_sazonais).astype(int)\n",
    "}))\n",
    "\n",
    "print('R²:', r2)\n",
    "print('MSE:', mse)\n",
    "print('Previsão de estoque para os próximos 7 dias:', estoque_predito)"
   ]
  }
 ],
 "metadata": {
  "kernelspec": {
   "display_name": "venv",
   "language": "python",
   "name": "python3"
  },
  "language_info": {
   "codemirror_mode": {
    "name": "ipython",
    "version": 3
   },
   "file_extension": ".py",
   "mimetype": "text/x-python",
   "name": "python",
   "nbconvert_exporter": "python",
   "pygments_lexer": "ipython3",
   "version": "3.12.2"
  }
 },
 "nbformat": 4,
 "nbformat_minor": 2
}
